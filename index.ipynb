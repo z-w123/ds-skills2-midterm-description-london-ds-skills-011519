{
 "cells": [
  {
   "cell_type": "markdown",
   "metadata": {},
   "source": [
    "# Midterm Project\n",
    "\n",
    "Now that you've gotten a solid introduction to Python and SQL, its time to start putting those skills to work and using them to assemble a dataset. Your goal is to choose an API and programmatically use it to populate a database. From there, you will then begin to explore the dataset and uncover initial insights. The pipeline that you build will then serve as the beginning for your final project in which you will apply an initial machine learning model (linear regression) to your dataset in order to produce some useful prediction. Here's a more thorough description and outline: (You can also find a pdf version of the rubric below in the github repository associated with this notebook).  \n",
    "\n",
    "<img src=\"Midterm_Project.jpg\" width=1050>"
   ]
  }
 ],
 "metadata": {
  "kernelspec": {
   "display_name": "Python 3",
   "language": "python",
   "name": "python3"
  },
  "language_info": {
   "codemirror_mode": {
    "name": "ipython",
    "version": 3
   },
   "file_extension": ".py",
   "mimetype": "text/x-python",
   "name": "python",
   "nbconvert_exporter": "python",
   "pygments_lexer": "ipython3",
   "version": "3.6.6"
  }
 },
 "nbformat": 4,
 "nbformat_minor": 2
}
